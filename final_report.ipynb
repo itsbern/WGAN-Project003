{
 "cells": [
  {
   "cell_type": "markdown",
   "metadata": {},
   "source": [
    "<h1 style=\"text-align: center; color: navy;\">Project 003 WGAN for Financial Time-Series</h1>\n",
    "\n",
    "<p style=\"text-align: center;\">\n",
    "    <img src=\"https://oci02.img.iteso.mx/Identidades-De-Instancia/ITESO/Logos%20ITESO/Logo-ITESO-Vertical-SinFondo.png\" alt=\"Logo de ITESO\">\n",
    "</p>\n",
    "\n",
    "<h2 style= \"text-align: center; color: #2b2726 ;>\">\tMICROESTRUCTURA Y SISTEMAS DE \"TRADING\"</h2>\n",
    "\n",
    "<h3 style=\"text-align: center; color: #2b2726 ;\">Hecho por: Bernardo Ramírez González y Stephanie</h3>\n",
    "\n"
   ]
  },
  {
   "cell_type": "markdown",
   "metadata": {},
   "source": [
    "<h2>Introduction</h2> \n",
    "The generation of synthetic data in finance has gained significance due to the need for controlled environments for model testing and risk analysis. Financial time series, characterized by high volatility and external shocks, pose challenges for traditional data generation models. Generative Adversarial Networks (GANs) offer a powerful solution, with the Wasserstein GAN with Gradient Penalty (WGAN-GP) being especially effective in ensuring training stability and preventing mode collapse, common issues in GAN training. This project leverages WGAN-GP to generate synthetic stock price series by learning the underlying dynamics of historical price data, aiming to produce realistic data that can support financial modeling, risk management, and scenario analysis.\n"
   ]
  },
  {
   "cell_type": "markdown",
   "metadata": {},
   "source": []
  },
  {
   "cell_type": "markdown",
   "metadata": {},
   "source": []
  }
 ],
 "metadata": {
  "kernelspec": {
   "display_name": "tf-env",
   "language": "python",
   "name": "python3"
  },
  "language_info": {
   "name": "python",
   "version": "3.10.0"
  }
 },
 "nbformat": 4,
 "nbformat_minor": 2
}
