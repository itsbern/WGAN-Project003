{
 "cells": [
  {
   "cell_type": "markdown",
   "metadata": {},
   "source": [
    "\n",
    "<h1 style=\"text-align: center; color: navy;\">Project 003 WGAN for Financial Time-Series</h1>\n",
    "\n",
    "<p style=\"text-align: center;\">\n",
    "    <img src=\"https://oci02.img.iteso.mx/Identidades-De-Instancia/ITESO/Logos%20ITESO/Logo-ITESO-Vertical-SinFondo.png\" alt=\"Logo de ITESO\">\n",
    "</p>\n",
    "\n",
    "<h2 style= \"text-align: center; color: #2b2726 ;\">\tMICROESTRUCTURA Y SISTEMAS DE \"TRADING\"</h2>\n",
    "\n",
    "<h3 style=\"text-align: center; color: #2b2726 ;\">Hecho por: Bernardo Ramírez González y Estephanie López</h3>\n",
    "\n"
   ]
  },
  {
   "cell_type": "markdown",
   "metadata": {},
   "source": [
    "<h2 style=\"color: navy;\">Introduction</h2> \n",
    "The generation of synthetic data in finance has gained significance due to the need for controlled environments for model testing and risk analysis. Financial time series, characterized by high volatility and external shocks, pose challenges for traditional data generation models. Generative Adversarial Networks (GANs) offer a powerful solution, with the Wasserstein GAN with Gradient Penalty (WGAN-GP) being especially effective in ensuring training stability and preventing mode collapse, common issues in GAN training. This project leverages WGAN-GP to generate synthetic stock price series by learning the underlying dynamics of historical price data, aiming to produce realistic data that can support financial modeling, risk management, and scenario analysis.\n",
    "\n",
    "\n",
    "\n",
    "\n",
    "<p style=\"text-align: center;\">\n",
    "    <img src=\"data:image/png;base64,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\" alt=\"WGAN\">\n",
    "</p>\n",
    "\n"
   ]
  },
  {
   "cell_type": "markdown",
   "metadata": {},
   "source": [
    "<h2 style=\"color: navy;\"Model: Development Process</h2> "
   ]
  },
  {
   "cell_type": "markdown",
   "metadata": {},
   "source": [
    "<h2 style=\"color: navy;\">Model: Development Process</h2>\n",
    "We began by developing two dense neural networks: one for generating synthetic data (Generator Network) and another for distinguishing between real and synthetic data (Discriminator Network).\n",
    "\n",
    "<h4>Generator network</h4>\n",
    "The Generator network accepts a vector of random noise (or \"latent vector\") as input and processes it through a series of dense layers to produce a time series that mimics real financial data. The architecture includes the following layers:\n",
    "\n",
    "* Dense Layer 1: 50 units, followed by a LeakyReLU activation.\n",
    "* Dense Layer 2: 200 units with LeakyReLU.\n",
    "* Dense Layer 3: 512 units with LeakyReLU.\n",
    "* Dense Layers 4 & 5: Each with 2 × ts_dim units and LeakyReLU activations.\n",
    "* Dense Layer 6: Dense Layer 6: ts_dim units with LeakyReLU.\n",
    "\n",
    "LeakyReLU activations are used throughout the network to provide a slope for negative inputs, helping to stabilize training by allowing a small gradient when units are inactive. The final output is a vector of size ts_dim, representing a synthetic time series.\n",
    "\n",
    "| <span style=\"color: red;\">Note:</span> ts_dim is the length of the time series (here, ts_dim = 252), representing the number of time steps in each generated sequence, typically matching the real financial series length. |\n",
    "\n",
    "<h4>Discriminator network</h4>\n",
    "The Discriminator network is tasked with evaluating whether a given time series is real (from the dataset) or synthetic (produced by the Generator). Its architecture is as follows:\n",
    "\n",
    "* Dense Layer 1: 2 × ts_dim with a LeakyReLU activation.\n",
    "* Dense Layer 2: 4 × ts_dim units with LeakyReLU.\n",
    "* Dense Layers 3 & 4: Each with 5 × ts_dim units and LeakyReLU activations.\n",
    "* Dense Layer 5: 6 × ts_dim units with LeakyReLU.\n",
    "* Dense Layer 6: 2 × ts_dim units with LeakyReLU.\n",
    "\n",
    "Output Layer: A final dense layer with ts_dim units.\n",
    "The Discriminator produces a score that indicates the \"realness\" of the input, enabling it to distinguish between real and synthetic data. This process encourages the Generator to improve over time, as it aims to create data that the Discriminator cannot easily classify as synthetic."
   ]
  },
  {
   "cell_type": "markdown",
   "metadata": {},
   "source": [
    "The _main_ code we built tries tp implement a WGAN-GP model to generate synthetic financial time series based on historical data, specifically using 10 years of AAPL stock prices. The process begins by loading and normalizing real data, then training the WGAN-GP model with specific parameters for epochs, batch size, and gradient penalty (lambda_gp) using Wasserstein loss with gradient penalty to ensure stability. The code includes essential functions like preprocess_data for normalization, postprocess_data to inverse-transform the generated outputs, and convert_returns_to_prices for converting returns to price data. The main training function train orchestrates the Generator and Discriminator’s training, where the gradient penalty is calculated to prevent overfitting. After training, synthetic time series are generated with generate_synthetic_prices. Lastly, three main visualizations are plotted side-by-side: training losses, synthetic vs. real prices, and synthetic vs. real returns, to assess the model's performance.\n",
    "\n",
    "Finally we made three main visualizations plotting the training losses, synthetic vs. real prices, and synthetic vs. real returns, to assess the model's performance. Here are the results:\n",
    "\n",
    "<div style=\"text-align: center;\">\n",
    "    <img src=\"results/final_results.png\" alt=\"Image\" />\n",
    "</div>\n",
    "\n",
    "In conclusion of the model, while the output does not perfectly match real financial data distribution, it provides a foundation for generating diverse and somewhat realistic scenarios that can be useful in risk management, data augmentation, and exploratory studies. Future work might involve refining the model architecture or training process to better capture the true distribution and dynamics of financial time series. \n",
    "\n",
    "\n"
   ]
  },
  {
   "cell_type": "markdown",
   "metadata": {},
   "source": [
    "<h2 style=\"color: navy;\">Backtest: Analysing returns</h2>\n",
    "\n",
    "<h4>Objective</h4>\n",
    "\n",
    "The objective of the backtest is to evaluate the performance of a trading strategy with various combinations of Stop Loss and Take Profit, in order to identify those configurations that best optimize the strategy’s performance metrics.\n",
    "\n",
    "\n",
    "<h4>Process</h4>\n",
    "\n",
    "1. Parameter Definition:\n",
    "   A set of values for Stop Loss (SL) and Take Profit (TP) is defined, as these are the key parameters for the strategy. These values are optimized to find the most effective combination.\n",
    "\n",
    "2. Combination Generation:  \n",
    "   All possible combinations of SL and TP are generated, evaluating how each of these combinations affects the performance of the strategy. For each combination, three key metrics are calculated:\n",
    "   \n",
    "   - Sharpe Ratio: A measure of risk-adjusted return.\n",
    "   - Win/Loss Ratio: The ratio between winning and losing trades.\n",
    "   - Max Drawdown: The maximum loss from the peak to the trough in the capital during the test period.\n",
    "\n",
    "3. Result Evaluation:  \n",
    "   For each SL and TP combination, the performance of the strategy is calculated and stored in a DataFrame. Then, a global Score is generated for each combination using the following formula:\n",
    "\n",
    "$$\n",
    "\\text{Score} = (\\text{Sharpe} + \\text{Win/Loss Ratio}) - \\text{Max Drawdown}\n",
    "$$\n",
    "\n",
    "   Where:\n",
    "\n",
    "   - The goal is to maximize Sharpe and Win/Loss Ratio, and minimize Max Drawdown.\n",
    "   Values: The values for calculating this Score are extracted from the respective DataFrames containing the results for Sharpe, Win/Loss Ratio, and Max Drawdown for each scenario and combination, in order to evaluate the overall performance.\n",
    "\n",
    "<h4>Metric Calculations</h4>\n",
    "\n",
    "1. Sharpe Ratio:  \n",
    "   The Sharpe ratio is calculated for each combination as the ratio between the strategy’s return and its volatility. A higher Sharpe value indicates a more efficient strategy in terms of risk-adjusted return.\n",
    "\n",
    "2. Win/Loss Ratio:  \n",
    "   This ratio reflects how many times the strategy has won compared to how many times it has lost. A Win/Loss Ratio greater than 1 is ideal, as it suggests that profits outweigh losses.\n",
    "\n",
    "3. Max Drawdown:  \n",
    "   Max Drawdown indicates the largest drop in portfolio value from its highest point to its lowest point. A lower Max Drawdown is desirable, as it reflects less exposure to significant losses.\n",
    "\n",
    "\n",
    "<h4>Final Results</h4>\n",
    "\n",
    "For each SL and TP combination, the following metrics were evaluated:\n",
    "\n",
    "- Selected Combinations: The combinations were assessed based on their ability to maximize the Sharpe ratio and Win/Loss ratio, while minimizing Max Drawdown.\n",
    "\n",
    "\n",
    "<h4>Top 10 Combinations of Stop Loss (SL) and Take Profit (TP):</h4>\n",
    "\n",
    "Below are the top 10 SL and TP combinations with their corresponding metrics:\n"
   ]
  },
  {
   "cell_type": "markdown",
   "metadata": {},
   "source": [
    "\n",
    "#### Top 10 Combinations of Stop Loss (SL) and Take Profit (TP):\n",
    "\n",
    "Below are the Top 10 combinations of SL and TP, along with their corresponding metrics:\n",
    "\n",
    "| Combination      | **Sharpe**    | **Win/Loss Ratio** | **Max Drawdown** | **Score**   |\n",
    "|------------------|---------------|--------------------|------------------|-------------|\n",
    "| **SL: 0.08 TP: 0.01** | -1.049747 | 3.266691          | 0.192766         | **11.418594** |\n",
    "| **SL: 0.09 TP: 0.01** | -1.088977 | 3.307940          | 0.208439         | **11.417336** |\n",
    "| **SL: 0.05 TP: 0.01** | -0.928887 | 2.804827          | 0.154608         | **11.413936** |\n",
    "| **SL: 0.07 TP: 0.01** | -1.047666 | 3.140848          | 0.179239         | **11.413936** |\n",
    "| **SL: 0.06 TP: 0.01** | -0.966341 | 2.938678          | 0.168592         | **11.413936** |\n",
    "| **SL: 0.10 TP: 0.01** | -1.174888 | 3.368049          | 0.220935         | **11.388699** |\n",
    "| **SL: 0.03 TP: 0.01** | -0.953400 | 2.132099          | 0.131870         | **11.388609** |\n",
    "| **SL: 0.04 TP: 0.01** | -0.973853 | 2.503297          | 0.141233         | **11.388609** |\n",
    "| **SL: 0.05 TP: 0.02** | -1.115616 | 1.844925          | 0.187571         | **11.388609** |\n",
    "| **SL: 0.08 TP: 0.02** | -1.208794 | 2.184601          | 0.232504         | **11.388609** |\n",
    "\n"
   ]
  },
  {
   "cell_type": "markdown",
   "metadata": {},
   "source": [
    "##### How to Interpret It?\n",
    "\n",
    "- SL:0.08 TP:0.01 has a negative Sharpe ratio, which means that the return is not sufficient to justify the risk taken. However, it has a relatively high Win/Loss Ratio, indicating that it wins more often than it loses, though the wins are likely smaller compared to the losses.\n",
    "\n",
    "- SL:0.10 TP:0.01 has an even more negative Sharpe ratio (suggesting it is a worse strategy in terms of risk-adjusted returns), but it has a very high Win/Loss Ratio (3.368049), indicating that, despite the losses, the profits from winning trades are much larger compared to the losses.\n",
    "\n",
    "- SL:0.03 TP:0.01 has a moderately negative Sharpe ratio, but with the lowest Max Drawdown (0.131870), suggesting that it is a less risky option compared to the others, although it may also be less profitable.\n",
    "\n",
    "##### What to do with this Information?\n",
    "\n",
    "- If the goal is to minimize risk, combinations like SL:0.03 TP:0.01 are the most attractive, as they have the lowest Max Drawdown, even though their profitability is not the highest.\n",
    "\n",
    "- If the goal is to maximize profit, strategies with a high Win/Loss Ratio should be considered, such as SL:0.10 TP:0.01 or SL:0.08 TP:0.01, although this will come at the cost of a negative Sharpe ratio.\n",
    "\n",
    "##### Next Steps:\n",
    "\n",
    "- Optimization: To improve these metrics, SL and TP should be optimized to find values that maximize utility while minimizing risk. Keep in mind that Win/Loss Ratio and the Sharpe ratio are often inversely proportional. A higher win probability generally means that the profit per trade may be smaller, which could negatively affect the Sharpe ratio.\n"
   ]
  },
  {
   "cell_type": "markdown",
   "metadata": {},
   "source": [
    "#### Conclusion\n",
    "\n",
    "In this backtest analysis, we explored different combinations of Stop Loss (SL) and Take Profit (TP) to evaluate the performance of a trading strategy using three key metrics: Sharpe Ratio, Win/Loss Ratio, and Max Drawdown.\n",
    "\n",
    "1. Risk and Return Tradeoff: The analysis reveals a tradeoff between maximizing returns and minimizing risk. For example, combinations with higher Win/Loss Ratios (such as SL:0.10 TP:0.01) offer significant profit potential but with a negative Sharpe Ratio, indicating poor risk-adjusted returns. On the other hand, combinations like SL:0.03 TP:0.01 offer lower risk, as reflected in the lower Max Drawdown, but with less attractive returns.\n",
    "\n",
    "2. Optimization: To improve the values of these metrics, it is important to continue optimizing SL and TP combinations to find the right balance between risk and return. However, it is essential to understand that in most cases, Win/Loss Ratio and Sharpe Ratio are inversely related: a higher probability of winning trades may result in smaller gains per trade, which could negatively affect the Sharpe Ratio.\n"
   ]
  }
 ],
 "metadata": {
  "kernelspec": {
   "display_name": "Python 3 (ipykernel)",
   "language": "python",
   "name": "python3"
  },
  "language_info": {
   "codemirror_mode": {
    "name": "ipython",
    "version": 3
   },
   "file_extension": ".py",
   "mimetype": "text/x-python",
   "name": "python",
   "nbconvert_exporter": "python",
   "pygments_lexer": "ipython3",
   "version": "3.12.7"
  }
 },
 "nbformat": 4,
 "nbformat_minor": 4
}
